{
 "cells": [
  {
   "cell_type": "markdown",
   "id": "f8f3e782-78e2-4502-9e80-ca7240eea9ae",
   "metadata": {},
   "source": [
    "# 1.4 ANSWERS . EXERCISE 20th-CENTURY"
   ]
  },
  {
   "cell_type": "code",
   "execution_count": 1,
   "id": "80e6c069-4629-490f-a6fa-93d748216e6c",
   "metadata": {},
   "outputs": [],
   "source": [
    "# Import Libraries\n",
    "\n",
    "import pandas as pd\n",
    "import time\n",
    "from selenium import webdriver\n",
    "from webdriver_manager.chrome import ChromeDriverManager\n",
    "from selenium.webdriver.common.by import By\n",
    "from selenium.webdriver.chrome.service import Service\n",
    "from selenium.webdriver.chrome.options import Options\n",
    "import matplotlib.pyplot as plt\n",
    "import os\n",
    "import logging"
   ]
  },
  {
   "cell_type": "code",
   "execution_count": 2,
   "id": "416f8a0a-faed-4034-b3cd-ce81f85e3e38",
   "metadata": {},
   "outputs": [
    {
     "ename": "TypeError",
     "evalue": "WebDriver.__init__() got an unexpected keyword argument 'service'",
     "output_type": "error",
     "traceback": [
      "\u001b[1;31m---------------------------------------------------------------------------\u001b[0m",
      "\u001b[1;31mTypeError\u001b[0m                                 Traceback (most recent call last)",
      "Cell \u001b[1;32mIn[2], line 4\u001b[0m\n\u001b[0;32m      1\u001b[0m \u001b[38;5;66;03m# Specify the path to your manually downloaded ChromeDriver\u001b[39;00m\n\u001b[0;32m      3\u001b[0m service \u001b[38;5;241m=\u001b[39m Service(executable_path \u001b[38;5;241m=\u001b[39m \u001b[38;5;124mr\u001b[39m\u001b[38;5;124m\"\u001b[39m\u001b[38;5;124mC:\u001b[39m\u001b[38;5;124m\\\u001b[39m\u001b[38;5;124mUsers\u001b[39m\u001b[38;5;124m\\\u001b[39m\u001b[38;5;124mcarol\u001b[39m\u001b[38;5;124m\\\u001b[39m\u001b[38;5;124mChromedrive\u001b[39m\u001b[38;5;124m\\\u001b[39m\u001b[38;5;124mchromedriver-win64\u001b[39m\u001b[38;5;124m\\\u001b[39m\u001b[38;5;124mchromedriver.exe\u001b[39m\u001b[38;5;124m\"\u001b[39m)\n\u001b[1;32m----> 4\u001b[0m driver \u001b[38;5;241m=\u001b[39m webdriver\u001b[38;5;241m.\u001b[39mChrome(service \u001b[38;5;241m=\u001b[39m service)\n",
      "\u001b[1;31mTypeError\u001b[0m: WebDriver.__init__() got an unexpected keyword argument 'service'"
     ]
    }
   ],
   "source": [
    "# Specify the path to your manually downloaded ChromeDriver\n",
    "\n",
    "service = Service(executable_path = r\"C:\\Users\\carol\\Chromedrive\\chromedriver-win64\\chromedriver.exe\")\n",
    "driver = webdriver.Chrome(service = service)"
   ]
  },
  {
   "cell_type": "code",
   "execution_count": null,
   "id": "63e79f20-7acf-4aa8-9921-419ddc11d080",
   "metadata": {},
   "outputs": [],
   "source": []
  },
  {
   "cell_type": "code",
   "execution_count": null,
   "id": "bac00437-6a50-420a-9a4d-ed08a48e2d57",
   "metadata": {},
   "outputs": [],
   "source": []
  },
  {
   "cell_type": "code",
   "execution_count": null,
   "id": "dfc79763-9550-4698-9eac-197ce30253e5",
   "metadata": {},
   "outputs": [],
   "source": []
  }
 ],
 "metadata": {
  "kernelspec": {
   "display_name": "Python [conda env:20th_century]",
   "language": "python",
   "name": "conda-env-20th_century-py"
  },
  "language_info": {
   "codemirror_mode": {
    "name": "ipython",
    "version": 3
   },
   "file_extension": ".py",
   "mimetype": "text/x-python",
   "name": "python",
   "nbconvert_exporter": "python",
   "pygments_lexer": "ipython3",
   "version": "3.12.7"
  }
 },
 "nbformat": 4,
 "nbformat_minor": 5
}
