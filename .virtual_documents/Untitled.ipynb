


from textblob import TextBlob
import pandas as pd
import seaborn as sns
import matplotlib.pyplot as plt
import nltk
import re
from collections import Counter

# Download necessary NLTK data
nltk.download('stopwords')
nltk.download('punkt')
nltk.download('averaged_perceptron_tagger')

# Optional: Set Seaborn style
sns.set(style="whitegrid")





with open(r"C:\Users\carol\Documents\Data Specialization\20th_century\20th_century_Wiki.txt", "r",errors='ignore') as file:
    data = file.read().replace('\n', ' ')





import nltk
nltk.download('punkt_tab')

from nltk.tokenize import sent_tokenize
tokenized_sent = sent_tokenize(data)
print(tokenized_sent) 


# Tokenize the text into single words

from nltk.tokenize import word_tokenize
tokenized_word = word_tokenize(data)
print(tokenized_word)


# Analise words frequency distribution

from nltk.probability import FreqDist
dist_words = FreqDist(tokenized_word)
print (dist_words)


#Review the most common (10) words
dist_words.most_common(10)


common_words = dist_words.most_common(10)
words = [word for word, count in common_words]
counts = [count for word, count in common_words]


# Plot the bar chart
plt.figure(figsize=(10, 6))
sns.barplot(x=counts, y=words, palette="viridis")
plt.title("Top 10 Most Common Words")
plt.xlabel("Frequency")
plt.ylabel("Words")
plt.show()





# Defining stopwords

from nltk.corpus import stopwords
stop_words = set(stopwords.words("english"))
print(stop_words)


filtered_words = [] # creates an empty list
for word in tokenized_word:
    if word not in stop_words:
        filtered_words.append(word)


# Create a new FreqDist for filtered_words

dist_words_filter = FreqDist(stop_words)
print(dist_words_filter)


filtered_common_words = dist_words_filter.most_common(10)
words = [word for word, count in filtered_common_words]
counts = [count for word, count in filtered_common_words]


plt.figure(figsize=(10, 6))
sns.barplot(x=counts, y=words, palette="viridis")
plt.title("Top 10 Most Common Words (After Removing Stop Words and Punctuation)")
plt.xlabel("Frequency")
plt.ylabel("Words")
plt.show()





# Substitute all punctuation marks with a space

sans_punc = re.sub("[^a-zA-Z]",  # Search for all non-letters
                          " ",          # Replace all non-letters with spaces
                          str(filtered_words))


#Checking data

sans_punc


#create another tokenized object 

tokenized_word_2 = word_tokenize(sans_punc)
print(tokenized_word_2)


# Create a new FreqDist

dist_words_filter_2 = FreqDist(tokenized_word_2)


# Get the 19 most common words after further processing
filtered_common_words = dist_words_filter_2.most_common(19)
words = [word for word, count in filtered_common_words]
counts = [count for word, count in filtered_common_words]



# Plot the bar chart
plt.figure(figsize=(12, 8))
sns.barplot(x=counts, y=words, palette="viridis")
plt.title("Top 19 Most Common Words (After Removing Punctuation and Further Cleaning)")
plt.xlabel("Frequency")
plt.ylabel("Words")
plt.show()





new_stopwords = ["And", "Then", 'n', 't', 's', 'The']


filtered = []
for word in tokenized_word_2:
    if word not in new_stopwords:
        filtered.append(word)


%%time 
text = TextBlob(str(filtered))


#Check object text
text


# Create a tag list ( describe whether a word is a noun , adjective, verb...)
import nltk
nltk.download('averaged_perceptron_tagger_eng')
tags_list = text.tags


#Check object tag_list
tags_list


#Create a Dataframe from tag_list

df_text = pd.DataFrame(tags_list)
df_text.columns = ['Words', "Word type"]


df_text.head()


df_t = df_text.groupby('Word type').count().reset_index()


df_t.head()


top20 = df_t.nlargest(20, 'Words')


plt.figure(figsize = (10, 5))
with sns.dark_palette("xkcd:blue", 20):
    sns.barplot(x = "Words", y = "Word type",
    saturation = 0.9, data = top20).set_title("20th_century - top 20 word types used")
























