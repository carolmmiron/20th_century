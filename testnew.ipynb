{
 "cells": [
  {
   "cell_type": "code",
   "execution_count": 1,
   "id": "96b21273-ca73-4dcd-b463-942243946581",
   "metadata": {},
   "outputs": [],
   "source": [
    "# Test Script\n",
    "## This is for the  local repository called \"Test\" and push it to GitHub"
   ]
  },
  {
   "cell_type": "code",
   "execution_count": null,
   "id": "4aff57db-de24-4984-8ec0-73468118ec99",
   "metadata": {},
   "outputs": [],
   "source": []
  }
 ],
 "metadata": {
  "kernelspec": {
   "display_name": "Python 3 (ipykernel)",
   "language": "python",
   "name": "python3"
  },
  "language_info": {
   "codemirror_mode": {
    "name": "ipython",
    "version": 3
   },
   "file_extension": ".py",
   "mimetype": "text/x-python",
   "name": "python",
   "nbconvert_exporter": "python",
   "pygments_lexer": "ipython3",
   "version": "3.11.7"
  }
 },
 "nbformat": 4,
 "nbformat_minor": 5
}
