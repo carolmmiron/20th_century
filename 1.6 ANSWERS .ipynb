{
 "cells": [
  {
   "cell_type": "markdown",
   "id": "e428f271-7c98-4f05-b941-1bacef8c414b",
   "metadata": {},
   "source": [
    "# 1.6 ANSWERS 20th_CENTURY"
   ]
  },
  {
   "cell_type": "code",
   "execution_count": 1,
   "id": "1494400e-8d80-401f-95ba-7e072421ef6d",
   "metadata": {},
   "outputs": [],
   "source": [
    "import pandas as pd\n",
    "import numpy as np\n",
    "import spacy\n",
    "from spacy import displacy\n",
    "import networkx as nx\n",
    "import os\n",
    "import matplotlib.pyplot as plt\n",
    "import scipy\n",
    "import re"
   ]
  },
  {
   "cell_type": "code",
   "execution_count": 2,
   "id": "6173a295-6afa-4278-8db7-a12801d0edf6",
   "metadata": {},
   "outputs": [
    {
     "name": "stdout",
     "output_type": "stream",
     "text": [
      "Collecting en-core-web-sm==3.8.0\n",
      "  Downloading https://github.com/explosion/spacy-models/releases/download/en_core_web_sm-3.8.0/en_core_web_sm-3.8.0-py3-none-any.whl (12.8 MB)\n",
      "     ---------------------------------------- 0.0/12.8 MB ? eta -:--:--\n",
      "     ------------------------ --------------- 7.9/12.8 MB 40.4 MB/s eta 0:00:01\n",
      "     --------------------------------------  12.6/12.8 MB 34.2 MB/s eta 0:00:01\n",
      "     --------------------------------------- 12.8/12.8 MB 30.8 MB/s eta 0:00:00\n",
      "[+] Download and installation successful\n",
      "You can now load the package via spacy.load('en_core_web_sm')\n"
     ]
    }
   ],
   "source": [
    "# Download English module\n",
    "\n",
    "!python -m spacy download en_core_web_sm"
   ]
  },
  {
   "cell_type": "code",
   "execution_count": 3,
   "id": "5a8e233e-0638-449d-8f87-5b784fbee1b2",
   "metadata": {},
   "outputs": [],
   "source": [
    "# Load spacy English module\n",
    "\n",
    "NER = spacy.load(\"en_core_web_sm\")"
   ]
  },
  {
   "cell_type": "markdown",
   "id": "5c3def5f-d3b9-45ba-ab2c-5545e6eff424",
   "metadata": {},
   "source": [
    "# Load the twentieth-century text file"
   ]
  },
  {
   "cell_type": "code",
   "execution_count": 4,
   "id": "d8776eb3-c59d-4fe0-bd84-7a7120145cc3",
   "metadata": {},
   "outputs": [],
   "source": [
    "\n",
    "with open('20th_century_Wiki.txt', 'r', encoding='utf-8') as file:\n",
    "    text = file.read()"
   ]
  },
  {
   "cell_type": "markdown",
   "id": "c6a80abe-79f3-45fb-b9c0-6563c00eb1ab",
   "metadata": {},
   "source": [
    "# 4. Evaluate and Wrangle the Text Data"
   ]
  },
  {
   "cell_type": "code",
   "execution_count": 5,
   "id": "f3febeec-8313-4b7f-b94d-b6408f6bdb5e",
   "metadata": {},
   "outputs": [],
   "source": [
    "# Step 1: Remove Special Characters\n",
    "cleaned_text = re.sub(r'[^a-zA-Z0-9\\s\\.\\,\\-\\(\\)]', ' ', text)\n"
   ]
  },
  {
   "cell_type": "code",
   "execution_count": 6,
   "id": "41e2da25-241b-4512-be75-22efd0a20516",
   "metadata": {},
   "outputs": [],
   "source": [
    "country_name_mapping = {\n",
    "    \"People's Republic of Bangladesh\": \"Bangladesh\",\n",
    "    \"French Indochina\": \"Vietnam\",\n",
    "    \"Republic of Vietnam\": \"Vietnam\",\n",
    "    \"Democratic Republic of Vietnam\": \"Vietnam\",\n",
    "    \"Soviet Union\": \"Russia\",\n",
    "    \"USSR\": \"Russia\",\n",
    "    \"Union of Soviet Socialist Republics\": \"Russia\",\n",
    "    \"German Empire\": \"Germany\",\n",
    "    \"East Germany\": \"Germany\",\n",
    "    \"West Germany\": \"Germany\",\n",
    "    \"Republic of China\": \"Taiwan\",\n",
    "    \"People's Republic of China\": \"China\",\n",
    "    \"Ceylon\": \"Sri Lanka\",\n",
    "    \"Rhodesia\": \"Zimbabwe\",\n",
    "    \"Portuguese Guinea\": \"Guinea-Bissau\",\n",
    "    \"South-West Africa\": \"Namibia\",\n",
    "    \"British Honduras\": \"Belize\",\n",
    "    \"Persia\": \"Iran\",\n",
    "    \"Burma\": \"Myanmar\",\n",
    "    \"Czechoslovakia\": \"Czech Republic\",\n",
    "    \"Kampuchea\": \"Cambodia\",\n",
    "    \"Zaire\": \"Democratic Republic of the Congo\",\n",
    "    \"Yugoslavia\": \"Serbia\",\n",
    "    \"Upper Volta\": \"Burkina Faso\",\n",
    "    \"French Somaliland\": \"Djibouti\",\n",
    "    \"Ivory Coast\": \"Côte d'Ivoire\",\n",
    "    \"Dutch East Indies\": \"Indonesia\",\n",
    "    \"Formosa\": \"Taiwan\",\n",
    "    \"Gold Coast\": \"Ghana\",\n",
    "    \"New Hebrides\": \"Vanuatu\",\n",
    "    \"British Palestine\": \"Israel\",\n",
    "    \"Trucial States\": \"United Arab Emirates\",\n",
    "    \"Dahomey\": \"Benin\",\n",
    "    \"Moldavian SSR\": \"Moldova\",\n",
    "    \"Byelorussian SSR\": \"Belarus\",\n",
    "    \"Ukrainian SSR\": \"Ukraine\",\n",
    "    \"Latvian SSR\": \"Latvia\",\n",
    "    \"Estonian SSR\": \"Estonia\",\n",
    "    \"Lithuanian SSR\": \"Lithuania\",\n",
    "    \"Karelo-Finnish SSR\": \"Russia\",\n",
    "    \"Manchukuo\": \"China\",\n",
    "    \"Korea\": \"South Korea\",\n",
    "    \"South Yemen\": \"Yemen\",\n",
    "    \"North Yemen\": \"Yemen\",\n",
    "}"
   ]
  },
  {
   "cell_type": "code",
   "execution_count": 7,
   "id": "5767d175-346a-4998-978e-8b5e6bbf4cc5",
   "metadata": {},
   "outputs": [],
   "source": [
    "for old_name, new_name in country_name_mapping.items():\n",
    "    cleaned_text = re.sub(r'\\b' + re.escape(old_name) + r'\\b', new_name, cleaned_text)"
   ]
  },
  {
   "cell_type": "code",
   "execution_count": 8,
   "id": "fe7c6fbb-955e-4950-9bc2-2057162dcd89",
   "metadata": {},
   "outputs": [],
   "source": [
    "# Save the cleaned text\n",
    "with open('cleaned_20th_century_Wiki.txt', 'w', encoding='utf-8') as file:\n",
    "    file.write(cleaned_text)"
   ]
  },
  {
   "cell_type": "markdown",
   "id": "2fd34c5b-59c5-4766-abf9-92d7af1ac3c9",
   "metadata": {},
   "source": [
    "# 5. Create a Named Entity Recognition (NER) Object"
   ]
  },
  {
   "cell_type": "code",
   "execution_count": 10,
   "id": "f1b7582c-fddc-4dba-9c81-67a230b68957",
   "metadata": {},
   "outputs": [],
   "source": [
    "# Create NER object\n",
    "doc = NER(cleaned_text)"
   ]
  },
  {
   "cell_type": "markdown",
   "id": "0fd5a6d7-fff0-4079-b8a4-eceda4077da6",
   "metadata": {},
   "source": [
    "# 6. Split Sentence Entities from the NER Object"
   ]
  },
  {
   "cell_type": "code",
   "execution_count": 11,
   "id": "56f38faf-d02d-4dd7-bcc0-98d0612894c0",
   "metadata": {},
   "outputs": [],
   "source": [
    "# Extract sentences with entities\n",
    "sentences = []\n",
    "for sent in doc.sents:\n",
    "    entities = [(ent.text, ent.label_) for ent in sent.ents]\n",
    "    sentences.append({\"sentence\": sent.text, \"entities\": entities})"
   ]
  },
  {
   "cell_type": "markdown",
   "id": "9ac457e9-08c7-4e2a-af55-0357e5e13a36",
   "metadata": {},
   "source": [
    "# 7. Filter the Entities for Country Names"
   ]
  },
  {
   "cell_type": "code",
   "execution_count": 12,
   "id": "48509638-34a4-4809-b521-18aa41b93287",
   "metadata": {},
   "outputs": [],
   "source": [
    "# Define your list of countries\n",
    "countries = [\n",
    "    \"Afghanistan\", \"Albania\", \"Algeria\", \"Andorra\", \"Angola\", \"Antigua and Barbuda\", \"Argentina\", \"Armenia\", \n",
    "    \"Australia\", \"Austria\", \"Azerbaijan\", \"Bahamas\", \"Bahrain\", \"Bangladesh\", \"Barbados\", \"Belarus\", \"Belgium\", \n",
    "    \"Belize\", \"Benin\", \"Bhutan\", \"Bolivia\", \"Bosnia and Herzegovina\", \"Botswana\", \"Brazil\", \"Brunei\", \n",
    "    \"Bulgaria\", \"Burkina Faso\", \"Burundi\", \"Cabo Verde\", \"Cambodia\", \"Cameroon\", \"Canada\", \"Central African Republic\", \n",
    "    \"Chad\", \"Chile\", \"China\", \"Colombia\", \"Comoros\", \"Congo (Congo-Brazzaville)\", \"Congo\", \"Costa Rica\", \n",
    "    \"Croatia\", \"Cuba\", \"Cyprus\", \"Czech Republic\", \"Denmark\", \"Djibouti\", \"Dominica\", \"Dominican Republic\", \n",
    "    \"Ecuador\", \"Egypt\", \"El Salvador\", \"Equatorial Guinea\", \"Eritrea\", \"Estonia\", \"Eswatini (fmr. Swaziland)\", \n",
    "    \"Ethiopia\", \"Fiji\", \"Finland\", \"France\", \"Gabon\", \"Gambia\", \"Georgia\", \"Germany\", \"Ghana\", \"Greece\", \n",
    "    \"Grenada\", \"Guatemala\", \"Guinea\", \"Guinea-Bissau\", \"Guyana\", \"Haiti\", \"Honduras\", \"Hungary\", \"Iceland\", \n",
    "    \"India\", \"Indonesia\", \"Iran\", \"Iraq\", \"Ireland\", \"Israel\", \"Italy\", \"Jamaica\", \"Japan\", \"Jordan\", \n",
    "    \"Kazakhstan\", \"Kenya\", \"Kiribati\", \"Korea, North\", \"Korea, South\", \"Kuwait\", \"Kyrgyzstan\", \"Laos\", \n",
    "    \"Latvia\", \"Lebanon\", \"Lesotho\", \"Liberia\", \"Libya\", \"Liechtenstein\", \"Lithuania\", \"Luxembourg\", \"Madagascar\", \n",
    "    \"Malawi\", \"Malaysia\", \"Maldives\", \"Mali\", \"Malta\", \"Marshall Islands\", \"Mauritania\", \"Mauritius\", \"Mexico\", \n",
    "    \"Micronesia\", \"Moldova\", \"Monaco\", \"Mongolia\", \"Montenegro\", \"Morocco\", \"Mozambique\", \"Myanmar (formerly Burma)\", \n",
    "    \"Namibia\", \"Nauru\", \"Nepal\", \"Netherlands\", \"New Zealand\", \"Nicaragua\", \"Niger\", \"Nigeria\", \"North Macedonia\", \n",
    "    \"Norway\", \"Oman\", \"Pakistan\", \"Palau\", \"Panama\", \"Papua New Guinea\", \"Paraguay\", \"Peru\", \"Philippines\", \n",
    "    \"Poland\", \"Portugal\", \"Qatar\", \"Romania\", \"Russia\", \"Rwanda\", \"Saint Kitts and Nevis\", \"Saint Lucia\", \n",
    "    \"Saint Vincent and the Grenadines\", \"Samoa\", \"San Marino\", \"Sao Tome and Principe\", \"Saudi Arabia\", \n",
    "    \"Senegal\", \"Serbia\", \"Seychelles\", \"Sierra Leone\", \"Singapore\", \"Slovakia\", \"Slovenia\", \"Solomon Islands\", \n",
    "    \"Somalia\", \"South Africa\", \"South Sudan\", \"Spain\", \"Sri Lanka\", \"Sudan\", \"Suriname\", \"Sweden\", \n",
    "    \"Switzerland\", \"Syria\", \"Taiwan\", \"Tajikistan\", \"Tanzania\", \"Thailand\", \"Timor-Leste\", \"Togo\", \"Tonga\", \n",
    "    \"Trinidad and Tobago\", \"Tunisia\", \"Turkey\", \"Turkmenistan\", \"Tuvalu\", \"Uganda\", \"Ukraine\", \n",
    "    \"United Arab Emirates\", \"United Kingdom\", \"United States\", \"Uruguay\", \"Uzbekistan\", \"Vanuatu\", \n",
    "    \"Vatican City\", \"Venezuela\", \"Vietnam\", \"Yemen\", \"Zambia\", \"Zimbabwe\"\n",
    "]\n"
   ]
  },
  {
   "cell_type": "code",
   "execution_count": 13,
   "id": "e069e817-0b0e-4f3d-bd0e-0b87347d07f4",
   "metadata": {},
   "outputs": [],
   "source": [
    "# Filter entities for countries\n",
    "filtered_sentences = []\n",
    "for sent in sentences:\n",
    "    country_entities = [ent for ent in sent[\"entities\"] if ent[0] in countries]\n",
    "    if country_entities:\n",
    "        filtered_sentences.append({\"sentence\": sent[\"sentence\"], \"entities\": country_entities})"
   ]
  },
  {
   "cell_type": "markdown",
   "id": "0be76d73-0818-4c16-988e-7d7be3fd5a4d",
   "metadata": {},
   "source": [
    "# 8. Create the Relationships DataFrame"
   ]
  },
  {
   "cell_type": "code",
   "execution_count": 14,
   "id": "a84703d4-0a66-4033-b2ef-5dc7407caeda",
   "metadata": {},
   "outputs": [],
   "source": [
    "# Create relationships DataFrame\n",
    "relationships = []\n",
    "for sent in filtered_sentences:\n",
    "    entities = [ent[0] for ent in sent[\"entities\"]]\n",
    "    for i in range(len(entities)):\n",
    "        for j in range(i + 1, len(entities)):\n",
    "            relationships.append({\"country_1\": entities[i], \"country_2\": entities[j], \"context\": sent[\"sentence\"]})\n",
    "\n",
    "df_relationships = pd.DataFrame(relationships)"
   ]
  },
  {
   "cell_type": "markdown",
   "id": "2c461bcc-46ae-452e-9278-f861d813e3d2",
   "metadata": {},
   "source": [
    "# 9. Save and Export Your DataFrame"
   ]
  },
  {
   "cell_type": "code",
   "execution_count": 15,
   "id": "06649a97-e311-4df9-880c-9a8fea358919",
   "metadata": {},
   "outputs": [],
   "source": [
    "df_relationships.to_csv('country_relationships.csv', index=False)"
   ]
  },
  {
   "cell_type": "code",
   "execution_count": null,
   "id": "3327585e-ca34-413e-9b70-624307cb7821",
   "metadata": {},
   "outputs": [],
   "source": []
  }
 ],
 "metadata": {
  "kernelspec": {
   "display_name": "Python (venv_alice)",
   "language": "python",
   "name": "venv_alice"
  },
  "language_info": {
   "codemirror_mode": {
    "name": "ipython",
    "version": 3
   },
   "file_extension": ".py",
   "mimetype": "text/x-python",
   "name": "python",
   "nbconvert_exporter": "python",
   "pygments_lexer": "ipython3",
   "version": "3.12.7"
  }
 },
 "nbformat": 4,
 "nbformat_minor": 5
}
